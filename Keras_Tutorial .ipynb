{
  "nbformat": 4,
  "nbformat_minor": 0,
  "metadata": {
    "kernelspec": {
      "display_name": "Python 3",
      "language": "python",
      "name": "python3"
    },
    "language_info": {
      "codemirror_mode": {
        "name": "ipython",
        "version": 3
      },
      "file_extension": ".py",
      "mimetype": "text/x-python",
      "name": "python",
      "nbconvert_exporter": "python",
      "pygments_lexer": "ipython3",
      "version": "3.7.3"
    },
    "colab": {
      "name": "Keras_Tutorial.ipynb",
      "provenance": []
    }
  },
  "cells": [
    {
      "cell_type": "markdown",
      "metadata": {
        "id": "lao0Dn0CNsZ3"
      },
      "source": [
        "## Keras 深度學習初體驗\n",
        "利用Keras套件，產生一個32個神經元的深度學習模型進行訓練"
      ]
    },
    {
      "cell_type": "code",
      "metadata": {
        "id": "elEZ3b4kNsZ_",
        "outputId": "2514ca14-e0f4-4a42-a43d-44148dcfc12d"
      },
      "source": [
        "pip install Keras#安裝Keras"
      ],
      "execution_count": null,
      "outputs": [
        {
          "output_type": "stream",
          "text": [
            "Collecting Keras\n",
            "  Downloading https://files.pythonhosted.org/packages/44/e1/dc0757b20b56c980b5553c1b5c4c32d378c7055ab7bfa92006801ad359ab/Keras-2.4.3-py2.py3-none-any.whl\n",
            "Requirement already satisfied: h5py in c:\\users\\user\\anaconda3\\lib\\site-packages (from Keras) (2.9.0)\n",
            "Requirement already satisfied: pyyaml in c:\\users\\user\\anaconda3\\lib\\site-packages (from Keras) (5.1)\n",
            "Requirement already satisfied: numpy>=1.9.1 in c:\\users\\user\\anaconda3\\lib\\site-packages (from Keras) (1.16.2)\n",
            "Requirement already satisfied: scipy>=0.14 in c:\\users\\user\\anaconda3\\lib\\site-packages (from Keras) (1.2.1)\n",
            "Requirement already satisfied: six in c:\\users\\user\\anaconda3\\lib\\site-packages (from h5py->Keras) (1.12.0)\n",
            "Installing collected packages: Keras\n",
            "Successfully installed Keras-2.4.3\n",
            "Note: you may need to restart the kernel to use updated packages.\n"
          ],
          "name": "stdout"
        }
      ]
    },
    {
      "cell_type": "code",
      "metadata": {
        "id": "Tjcell9mNsaB"
      },
      "source": [
        "pip install tensorflow#安裝tensorflow"
      ],
      "execution_count": null,
      "outputs": []
    },
    {
      "cell_type": "code",
      "metadata": {
        "id": "KqPmQ-grNsaC"
      },
      "source": [
        "import keras\n",
        "from keras.models import Sequential\n",
        "from keras.layers import Dense"
      ],
      "execution_count": 1,
      "outputs": []
    },
    {
      "cell_type": "markdown",
      "metadata": {
        "id": "Uoi0A7yxNsaC"
      },
      "source": [
        "## 隨機產生1000筆資料，用來做為訓練資料\n",
        "## 每筆資料包含十個float數字, 跟一個相對應的標籤(label)"
      ]
    },
    {
      "cell_type": "code",
      "metadata": {
        "colab": {
          "base_uri": "https://localhost:8080/"
        },
        "id": "IXl3GfG7NsaD",
        "outputId": "a5d2867d-8dee-4acb-9925-591210934ea9"
      },
      "source": [
        "import numpy as np\n",
        "#隨機產生1000筆資料，每筆資料包含十個float數字\n",
        "data = np.random.random((1000, 10)) \n",
        "#隨機產生1000筆資料作為標籤，每筆資料上限為2(意思就是0 或 1)\n",
        "labels = np.random.randint(2, size=(1000, 1)) \n",
        "print(np.shape(data))\n",
        "print(data[0])\n",
        "print(np.shape(labels))\n",
        "print(labels[0])"
      ],
      "execution_count": 2,
      "outputs": [
        {
          "output_type": "stream",
          "text": [
            "(1000, 10)\n",
            "[4.95447930e-01 5.54196908e-01 3.42024771e-01 2.25986717e-01\n",
            " 4.87027534e-01 7.38550556e-01 3.43497092e-01 2.00089160e-01\n",
            " 1.33016910e-02 3.40050630e-04]\n",
            "(1000, 1)\n",
            "[0]\n"
          ],
          "name": "stdout"
        }
      ]
    },
    {
      "cell_type": "markdown",
      "metadata": {
        "id": "glnOH019NsaD"
      },
      "source": [
        "## 步驟一：定義學習模型模型"
      ]
    },
    {
      "cell_type": "code",
      "metadata": {
        "id": "wTnsOMJlNsaD"
      },
      "source": [
        "#定義模型為一層一層堆疊模式\n",
        "model = Sequential()\n",
        "#定義第一層為32個神經元，輸入資料的維度為10，門檻函數為relu\n",
        "model.add(Dense(32, activation='relu', input_dim=10))\n",
        "#定義第二層為1個神經元的輸出層，門檻函數為sigmoid\n",
        "model.add(Dense(1, activation='sigmoid'))"
      ],
      "execution_count": 3,
      "outputs": []
    },
    {
      "cell_type": "markdown",
      "metadata": {
        "id": "gIyXAW4mNsaE"
      },
      "source": [
        "## 步驟二：定義評估函數"
      ]
    },
    {
      "cell_type": "code",
      "metadata": {
        "id": "62Npiy8KNsaF"
      },
      "source": [
        "model.compile(optimizer='rmsprop', loss='binary_crossentropy', metrics=['accuracy'])"
      ],
      "execution_count": 4,
      "outputs": []
    },
    {
      "cell_type": "markdown",
      "metadata": {
        "id": "9erlpM9ENsaF"
      },
      "source": [
        "## 步驟三：重複計算並調整模型"
      ]
    },
    {
      "cell_type": "code",
      "metadata": {
        "colab": {
          "base_uri": "https://localhost:8080/"
        },
        "id": "ssElsdNfNsaF",
        "outputId": "3f7a2a91-6543-4bd8-8144-e30d005e52c3"
      },
      "source": [
        "#將測試資料data，與相對應的結果(標籤)，丟進模型進行訓練\n",
        "#1000筆資料每次同時以32筆進行訓練，直到1000筆資料結束為止\n",
        "#總共要訓練10次(epochs)\n",
        "model.fit(data, labels, epochs=10, batch_size=32)"
      ],
      "execution_count": 5,
      "outputs": [
        {
          "output_type": "stream",
          "text": [
            "Epoch 1/10\n",
            "32/32 [==============================] - 1s 1ms/step - loss: 0.6988 - accuracy: 0.4779\n",
            "Epoch 2/10\n",
            "32/32 [==============================] - 0s 989us/step - loss: 0.6946 - accuracy: 0.4755\n",
            "Epoch 3/10\n",
            "32/32 [==============================] - 0s 1ms/step - loss: 0.6903 - accuracy: 0.5188\n",
            "Epoch 4/10\n",
            "32/32 [==============================] - 0s 970us/step - loss: 0.6900 - accuracy: 0.5378\n",
            "Epoch 5/10\n",
            "32/32 [==============================] - 0s 1ms/step - loss: 0.6862 - accuracy: 0.5611\n",
            "Epoch 6/10\n",
            "32/32 [==============================] - 0s 1ms/step - loss: 0.6887 - accuracy: 0.5584\n",
            "Epoch 7/10\n",
            "32/32 [==============================] - 0s 1ms/step - loss: 0.6872 - accuracy: 0.5487\n",
            "Epoch 8/10\n",
            "32/32 [==============================] - 0s 1ms/step - loss: 0.6876 - accuracy: 0.5458\n",
            "Epoch 9/10\n",
            "32/32 [==============================] - 0s 1ms/step - loss: 0.6860 - accuracy: 0.5490\n",
            "Epoch 10/10\n",
            "32/32 [==============================] - 0s 1ms/step - loss: 0.6869 - accuracy: 0.5406\n"
          ],
          "name": "stdout"
        },
        {
          "output_type": "execute_result",
          "data": {
            "text/plain": [
              "<tensorflow.python.keras.callbacks.History at 0x7f4e3bf6ca90>"
            ]
          },
          "metadata": {
            "tags": []
          },
          "execution_count": 5
        }
      ]
    },
    {
      "cell_type": "markdown",
      "metadata": {
        "id": "QGY_nM_ENsaG"
      },
      "source": [
        "## 把測試資料丟入觀看評估結果"
      ]
    },
    {
      "cell_type": "code",
      "metadata": {
        "colab": {
          "base_uri": "https://localhost:8080/"
        },
        "id": "Yd00jJhpNsaG",
        "outputId": "38dc90f9-20a5-4bc2-82af-03e9348284e7"
      },
      "source": [
        "#本範例將訓練資料作為測試資料進行評估\n",
        "#score[0]為誤差值，score[1]為正確性\n",
        "score=model.evaluate(data, labels)\n",
        "print(score[1])"
      ],
      "execution_count": 6,
      "outputs": [
        {
          "output_type": "stream",
          "text": [
            "32/32 [==============================] - 0s 904us/step - loss: 0.6854 - accuracy: 0.5530\n",
            "0.5529999732971191\n"
          ],
          "name": "stdout"
        }
      ]
    },
    {
      "cell_type": "code",
      "metadata": {
        "id": "dA78_r46NsaH"
      },
      "source": [
        ""
      ],
      "execution_count": null,
      "outputs": []
    }
  ]
}