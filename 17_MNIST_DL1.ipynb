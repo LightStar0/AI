{
  "nbformat": 4,
  "nbformat_minor": 0,
  "metadata": {
    "colab": {
      "name": "17.MNIST_DL1.ipynb",
      "provenance": [],
      "collapsed_sections": []
    },
    "kernelspec": {
      "name": "python3",
      "display_name": "Python 3"
    },
    "language_info": {
      "name": "python"
    },
    "accelerator": "GPU"
  },
  "cells": [
    {
      "cell_type": "markdown",
      "metadata": {
        "id": "1WovKw5sBwXr"
      },
      "source": [
        "## MNIST資料集深度學習訓練1\n",
        "* MNIST為手寫辨識資料集，含有60000筆手寫數字訓練資料，以及10000筆測試資料\n",
        "* 本範例利用傳統的深度學習模型進行訓練\n",
        "* 可嘗試\"變更執行階段\"類型為\"None\"或\"GPU\"型態(變更後記得重啟執行階段)"
      ]
    },
    {
      "cell_type": "code",
      "metadata": {
        "id": "pdiTbdShBDYk"
      },
      "source": [
        "import keras\n",
        "from keras.models import Sequential\n",
        "from keras.layers import Dense, Dropout, Flatten"
      ],
      "execution_count": 1,
      "outputs": []
    },
    {
      "cell_type": "markdown",
      "metadata": {
        "id": "_GqdWU7OD9Pe"
      },
      "source": [
        "## 準備資料"
      ]
    },
    {
      "cell_type": "code",
      "metadata": {
        "colab": {
          "base_uri": "https://localhost:8080/"
        },
        "id": "vEdJ_8DpD9au",
        "outputId": "e4ebf35d-aec0-4026-e92a-d2977005c288"
      },
      "source": [
        "#從keras的預設資料集讀取資料\n",
        "#x_train:訓練資料 y_train:訓練資料的標籤\n",
        "#x_test:測試資料 y_train:測試資料的標籤\n",
        "mnist = keras.datasets.mnist\n",
        "(x_train, y_train),(x_test, y_test) = mnist.load_data()\n",
        "print(x_train.shape[0], '個訓練範例')\n",
        "print(x_test.shape[0], '個測試範例')\n",
        "#進行正規化以增加正確性\n",
        "print(x_train[0])#28*28資料 0～255\n",
        "print('正確質',y_train[0])\n",
        "x_train, x_test = x_train / 255.0, x_test / 255.0   #介於0～1之間\n"
      ],
      "execution_count": 4,
      "outputs": [
        {
          "output_type": "stream",
          "text": [
            "60000 個訓練範例\n",
            "10000 個測試範例\n",
            "[[  0   0   0   0   0   0   0   0   0   0   0   0   0   0   0   0   0   0\n",
            "    0   0   0   0   0   0   0   0   0   0]\n",
            " [  0   0   0   0   0   0   0   0   0   0   0   0   0   0   0   0   0   0\n",
            "    0   0   0   0   0   0   0   0   0   0]\n",
            " [  0   0   0   0   0   0   0   0   0   0   0   0   0   0   0   0   0   0\n",
            "    0   0   0   0   0   0   0   0   0   0]\n",
            " [  0   0   0   0   0   0   0   0   0   0   0   0   0   0   0   0   0   0\n",
            "    0   0   0   0   0   0   0   0   0   0]\n",
            " [  0   0   0   0   0   0   0   0   0   0   0   0   0   0   0   0   0   0\n",
            "    0   0   0   0   0   0   0   0   0   0]\n",
            " [  0   0   0   0   0   0   0   0   0   0   0   0   3  18  18  18 126 136\n",
            "  175  26 166 255 247 127   0   0   0   0]\n",
            " [  0   0   0   0   0   0   0   0  30  36  94 154 170 253 253 253 253 253\n",
            "  225 172 253 242 195  64   0   0   0   0]\n",
            " [  0   0   0   0   0   0   0  49 238 253 253 253 253 253 253 253 253 251\n",
            "   93  82  82  56  39   0   0   0   0   0]\n",
            " [  0   0   0   0   0   0   0  18 219 253 253 253 253 253 198 182 247 241\n",
            "    0   0   0   0   0   0   0   0   0   0]\n",
            " [  0   0   0   0   0   0   0   0  80 156 107 253 253 205  11   0  43 154\n",
            "    0   0   0   0   0   0   0   0   0   0]\n",
            " [  0   0   0   0   0   0   0   0   0  14   1 154 253  90   0   0   0   0\n",
            "    0   0   0   0   0   0   0   0   0   0]\n",
            " [  0   0   0   0   0   0   0   0   0   0   0 139 253 190   2   0   0   0\n",
            "    0   0   0   0   0   0   0   0   0   0]\n",
            " [  0   0   0   0   0   0   0   0   0   0   0  11 190 253  70   0   0   0\n",
            "    0   0   0   0   0   0   0   0   0   0]\n",
            " [  0   0   0   0   0   0   0   0   0   0   0   0  35 241 225 160 108   1\n",
            "    0   0   0   0   0   0   0   0   0   0]\n",
            " [  0   0   0   0   0   0   0   0   0   0   0   0   0  81 240 253 253 119\n",
            "   25   0   0   0   0   0   0   0   0   0]\n",
            " [  0   0   0   0   0   0   0   0   0   0   0   0   0   0  45 186 253 253\n",
            "  150  27   0   0   0   0   0   0   0   0]\n",
            " [  0   0   0   0   0   0   0   0   0   0   0   0   0   0   0  16  93 252\n",
            "  253 187   0   0   0   0   0   0   0   0]\n",
            " [  0   0   0   0   0   0   0   0   0   0   0   0   0   0   0   0   0 249\n",
            "  253 249  64   0   0   0   0   0   0   0]\n",
            " [  0   0   0   0   0   0   0   0   0   0   0   0   0   0  46 130 183 253\n",
            "  253 207   2   0   0   0   0   0   0   0]\n",
            " [  0   0   0   0   0   0   0   0   0   0   0   0  39 148 229 253 253 253\n",
            "  250 182   0   0   0   0   0   0   0   0]\n",
            " [  0   0   0   0   0   0   0   0   0   0  24 114 221 253 253 253 253 201\n",
            "   78   0   0   0   0   0   0   0   0   0]\n",
            " [  0   0   0   0   0   0   0   0  23  66 213 253 253 253 253 198  81   2\n",
            "    0   0   0   0   0   0   0   0   0   0]\n",
            " [  0   0   0   0   0   0  18 171 219 253 253 253 253 195  80   9   0   0\n",
            "    0   0   0   0   0   0   0   0   0   0]\n",
            " [  0   0   0   0  55 172 226 253 253 253 253 244 133  11   0   0   0   0\n",
            "    0   0   0   0   0   0   0   0   0   0]\n",
            " [  0   0   0   0 136 253 253 253 212 135 132  16   0   0   0   0   0   0\n",
            "    0   0   0   0   0   0   0   0   0   0]\n",
            " [  0   0   0   0   0   0   0   0   0   0   0   0   0   0   0   0   0   0\n",
            "    0   0   0   0   0   0   0   0   0   0]\n",
            " [  0   0   0   0   0   0   0   0   0   0   0   0   0   0   0   0   0   0\n",
            "    0   0   0   0   0   0   0   0   0   0]\n",
            " [  0   0   0   0   0   0   0   0   0   0   0   0   0   0   0   0   0   0\n",
            "    0   0   0   0   0   0   0   0   0   0]]\n",
            "正確質 5\n"
          ],
          "name": "stdout"
        }
      ]
    },
    {
      "cell_type": "markdown",
      "metadata": {
        "id": "9RPBRmfYEClW"
      },
      "source": [
        "## 定義模型"
      ]
    },
    {
      "cell_type": "code",
      "metadata": {
        "id": "Bl4llQCADCYa"
      },
      "source": [
        "model = Sequential()#一層疊一層\n",
        "model.add(Flatten())#把28*28 拉平 變成一維\n",
        "model.add(Dense(512, activation='relu'))\n",
        "model.add(Dropout(0.2))#百分之20\n",
        "model.add(Dense(10, activation='softmax'))#輸出東西轉成0～1之間的機率－預測結果\n",
        "model.compile(optimizer='adam', loss='sparse_categorical_crossentropy', metrics=['accuracy'])#以正確性評估模型\n"
      ],
      "execution_count": 5,
      "outputs": []
    },
    {
      "cell_type": "markdown",
      "metadata": {
        "id": "QT8LWfRNELEF"
      },
      "source": [
        "## 進行訓練"
      ]
    },
    {
      "cell_type": "code",
      "metadata": {
        "colab": {
          "base_uri": "https://localhost:8080/"
        },
        "id": "LQws5mhEEP7c",
        "outputId": "d617e13a-6fb3-4619-bcb6-39f766a9689a"
      },
      "source": [
        "model.fit(x_train, y_train, epochs=5, batch_size=1000)#總共丟60次"
      ],
      "execution_count": 6,
      "outputs": [
        {
          "output_type": "stream",
          "text": [
            "Epoch 1/5\n",
            "60/60 [==============================] - 3s 3ms/step - loss: 0.9900 - accuracy: 0.7171\n",
            "Epoch 2/5\n",
            "60/60 [==============================] - 0s 3ms/step - loss: 0.2625 - accuracy: 0.9259\n",
            "Epoch 3/5\n",
            "60/60 [==============================] - 0s 4ms/step - loss: 0.1916 - accuracy: 0.9454\n",
            "Epoch 4/5\n",
            "60/60 [==============================] - 0s 3ms/step - loss: 0.1505 - accuracy: 0.9580\n",
            "Epoch 5/5\n",
            "60/60 [==============================] - 0s 3ms/step - loss: 0.1236 - accuracy: 0.9649\n"
          ],
          "name": "stdout"
        },
        {
          "output_type": "execute_result",
          "data": {
            "text/plain": [
              "<tensorflow.python.keras.callbacks.History at 0x7ff01818d090>"
            ]
          },
          "metadata": {
            "tags": []
          },
          "execution_count": 6
        }
      ]
    },
    {
      "cell_type": "markdown",
      "metadata": {
        "id": "xSrGr3N-ETr1"
      },
      "source": [
        "## 利用測試資料評估正確性"
      ]
    },
    {
      "cell_type": "code",
      "metadata": {
        "colab": {
          "base_uri": "https://localhost:8080/"
        },
        "id": "69INyt9wET3N",
        "outputId": "850c1d64-5587-44c5-eac2-0413bd358dac"
      },
      "source": [
        "score=model.evaluate(x_test, y_test)#測試資料\n",
        "print(\"正確率為：\",score[1])"
      ],
      "execution_count": 7,
      "outputs": [
        {
          "output_type": "stream",
          "text": [
            "313/313 [==============================] - 1s 2ms/step - loss: 0.1100 - accuracy: 0.9670\n",
            "正確率為： 0.9670000076293945\n"
          ],
          "name": "stdout"
        }
      ]
    }
  ]
}